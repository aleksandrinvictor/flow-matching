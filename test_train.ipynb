{
 "cells": [
  {
   "cell_type": "code",
   "execution_count": 25,
   "id": "91261162-b5c3-4904-b795-4fbf623b15bb",
   "metadata": {},
   "outputs": [],
   "source": [
    "from src.datasets.mnist import FlowMatchingMNIST\n",
    "from torch.utils.data import DataLoader\n",
    "from torchvision.transforms import CenterCrop, Compose, Lambda, Resize, ToTensor, Pad\n",
    "from src.flow_matching import OTConditionalFlow\n",
    "from torch.distributions.uniform import Uniform\n",
    "from src.models.unet import Unet, SinusoidalPositionEmbeddings\n",
    "\n",
    "import torch\n",
    "import torch.nn as nn\n",
    "import numpy as np"
   ]
  },
  {
   "cell_type": "code",
   "execution_count": 2,
   "id": "736de994-04be-4151-a0bb-c79eaf22775a",
   "metadata": {
    "scrolled": true
   },
   "outputs": [],
   "source": [
    "# Setup dataloader\n",
    "transform = Compose(\n",
    "    [\n",
    "        Resize(28),\n",
    "        ToTensor(),\n",
    "        Lambda(lambda t: (t * 2) - 1),\n",
    "    ]\n",
    ")\n",
    "dataset = FlowMatchingMNIST(\"./data\", train=True, transform=transform)\n",
    "dataloader = DataLoader(dataset=dataset, batch_size=8, shuffle=True, pin_memory=True)"
   ]
  },
  {
   "cell_type": "code",
   "execution_count": 14,
   "id": "476d11ac-9052-4ce6-8f86-b61ca18c48fc",
   "metadata": {},
   "outputs": [
    {
     "data": {
      "text/plain": [
       "7500"
      ]
     },
     "execution_count": 14,
     "metadata": {},
     "output_type": "execute_result"
    }
   ],
   "source": [
    "len(dataloader)"
   ]
  },
  {
   "cell_type": "code",
   "execution_count": 3,
   "id": "4885e2ff-80e6-4f06-9751-dd7415fc1db3",
   "metadata": {},
   "outputs": [
    {
     "data": {
      "text/plain": [
       "torch.Size([8, 1, 28, 28])"
      ]
     },
     "execution_count": 3,
     "metadata": {},
     "output_type": "execute_result"
    }
   ],
   "source": [
    "batch = next(iter(dataloader))\n",
    "batch[\"image\"].shape"
   ]
  },
  {
   "cell_type": "code",
   "execution_count": 4,
   "id": "8450c370-5c49-4dc7-97a6-d37cbe8d83ff",
   "metadata": {},
   "outputs": [],
   "source": [
    "x_1 = batch[\"image\"]\n",
    "batch_size = x_1.shape[0]\n",
    "x_0 = torch.randn_like(x_1)"
   ]
  },
  {
   "cell_type": "code",
   "execution_count": 13,
   "id": "ae3b09bd-67b5-41aa-bfca-b8db28a2532d",
   "metadata": {
    "scrolled": true
   },
   "outputs": [
    {
     "data": {
      "text/plain": [
       "torch.distributions.uniform.Uniform"
      ]
     },
     "execution_count": 13,
     "metadata": {},
     "output_type": "execute_result"
    }
   ],
   "source": [
    "type(m)"
   ]
  },
  {
   "cell_type": "code",
   "execution_count": 5,
   "id": "c1dc8906-84a0-476e-8c67-20199c502fca",
   "metadata": {},
   "outputs": [
    {
     "data": {
      "text/plain": [
       "torch.Size([8])"
      ]
     },
     "execution_count": 5,
     "metadata": {},
     "output_type": "execute_result"
    }
   ],
   "source": [
    "m = Uniform(0, 1)\n",
    "t = m.sample(sample_shape=(batch_size,))\n",
    "t.shape"
   ]
  },
  {
   "cell_type": "code",
   "execution_count": 6,
   "id": "004a5820-03dc-4939-a06f-dd649f6a9408",
   "metadata": {},
   "outputs": [],
   "source": [
    "target_flow = OTConditionalFlow(sigma_min=0.1)"
   ]
  },
  {
   "cell_type": "code",
   "execution_count": 7,
   "id": "5f8ffaa8-e2ad-415d-a82a-f12a20fa75ad",
   "metadata": {},
   "outputs": [
    {
     "data": {
      "text/plain": [
       "torch.Size([8, 1, 28, 28])"
      ]
     },
     "execution_count": 7,
     "metadata": {},
     "output_type": "execute_result"
    }
   ],
   "source": [
    "x_t = target_flow.sample_p_t(x_0=x_0, x_1=x_1, t=t)\n",
    "x_t.shape"
   ]
  },
  {
   "cell_type": "code",
   "execution_count": 46,
   "id": "c4b48c8e-1e57-4d76-adab-43795aa7814e",
   "metadata": {},
   "outputs": [],
   "source": [
    "class SimpleModel(nn.Module):\n",
    "    def __init__(self):\n",
    "        super().__init__()\n",
    "        self.time_mlp = nn.Sequential(\n",
    "            SinusoidalPositionEmbeddings(28), nn.Linear(28, 1), nn.GELU()\n",
    "        )\n",
    "\n",
    "        self.net = nn.Sequential(\n",
    "            nn.Conv2d(1, 4, 3, padding=\"same\"),\n",
    "            nn.SELU(),\n",
    "            nn.GroupNorm(1, 4),\n",
    "            nn.Conv2d(4, 1, 3, padding=\"same\"),\n",
    "        )\n",
    "\n",
    "    def forward(self, x_t: torch.Tensor, t: torch.Tensor) -> torch.Tensor:\n",
    "        time_embed = self.time_mlp(t)\n",
    "\n",
    "        return self.net(x_t + time_embed[:, None, None])"
   ]
  },
  {
   "cell_type": "code",
   "execution_count": 47,
   "id": "d4c2f5bc-3916-4047-b632-ff06d0bb2f65",
   "metadata": {},
   "outputs": [],
   "source": [
    "model = Unet(channels=1, dim_mults=(1, 2, 4), dim=28)\n",
    "model = SimpleModel()"
   ]
  },
  {
   "cell_type": "code",
   "execution_count": null,
   "id": "60586c9f-5a22-4107-98f7-ad0318f3c416",
   "metadata": {},
   "outputs": [],
   "source": []
  },
  {
   "cell_type": "code",
   "execution_count": 48,
   "id": "3ef23edc-29bf-4bca-84e3-ce9a2b75bceb",
   "metadata": {},
   "outputs": [
    {
     "data": {
      "text/plain": [
       "torch.Size([8, 1, 28, 28])"
      ]
     },
     "execution_count": 48,
     "metadata": {},
     "output_type": "execute_result"
    }
   ],
   "source": [
    "predicted_cond_vector_field = model(x_t, t)\n",
    "predicted_cond_vector_field.shape"
   ]
  },
  {
   "cell_type": "code",
   "execution_count": 12,
   "id": "f8db614f-a227-445f-9fca-7a0dad035321",
   "metadata": {},
   "outputs": [
    {
     "data": {
      "text/plain": [
       "torch.Size([8, 1, 28, 28])"
      ]
     },
     "execution_count": 12,
     "metadata": {},
     "output_type": "execute_result"
    }
   ],
   "source": [
    "target_cond_vector_field = target_flow.get_conditional_vector_field(x_0=x_0, x_1=x_1, t=t)\n",
    "target_cond_vector_field.shape"
   ]
  },
  {
   "cell_type": "code",
   "execution_count": null,
   "id": "3240a85e-5d4b-4e5e-ba5f-e09ad30c31c7",
   "metadata": {},
   "outputs": [],
   "source": []
  }
 ],
 "metadata": {
  "kernelspec": {
   "display_name": "Python 3 (ipykernel)",
   "language": "python",
   "name": "python3"
  },
  "language_info": {
   "codemirror_mode": {
    "name": "ipython",
    "version": 3
   },
   "file_extension": ".py",
   "mimetype": "text/x-python",
   "name": "python",
   "nbconvert_exporter": "python",
   "pygments_lexer": "ipython3",
   "version": "3.11.9"
  }
 },
 "nbformat": 4,
 "nbformat_minor": 5
}
