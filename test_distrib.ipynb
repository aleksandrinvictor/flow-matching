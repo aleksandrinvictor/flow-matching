{
 "cells": [
  {
   "cell_type": "code",
   "execution_count": 3,
   "id": "de1aa3f1-25bc-4398-8c5d-0e7c86d87f9d",
   "metadata": {},
   "outputs": [],
   "source": [
    "from torch.distributions.uniform import Uniform\n",
    "import torch"
   ]
  },
  {
   "cell_type": "code",
   "execution_count": 22,
   "id": "a0903938-2474-45c8-9145-51c83daf5b46",
   "metadata": {},
   "outputs": [],
   "source": [
    "m = Uniform(0, 1)"
   ]
  },
  {
   "cell_type": "code",
   "execution_count": 28,
   "id": "6cb5592c-6493-431e-9d71-4d7ae90795e5",
   "metadata": {},
   "outputs": [
    {
     "data": {
      "text/plain": [
       "tensor([[0.1071],\n",
       "        [0.4152],\n",
       "        [0.1851],\n",
       "        [0.7486],\n",
       "        [0.2082],\n",
       "        [0.7302],\n",
       "        [0.7948],\n",
       "        [0.9617]])"
      ]
     },
     "execution_count": 28,
     "metadata": {},
     "output_type": "execute_result"
    }
   ],
   "source": [
    "m.sample(sample_shape=(8, 1))"
   ]
  },
  {
   "cell_type": "code",
   "execution_count": null,
   "id": "a762e95d-ccaa-4ccb-9769-47b905708ea1",
   "metadata": {},
   "outputs": [],
   "source": []
  }
 ],
 "metadata": {
  "kernelspec": {
   "display_name": "Python 3 (ipykernel)",
   "language": "python",
   "name": "python3"
  },
  "language_info": {
   "codemirror_mode": {
    "name": "ipython",
    "version": 3
   },
   "file_extension": ".py",
   "mimetype": "text/x-python",
   "name": "python",
   "nbconvert_exporter": "python",
   "pygments_lexer": "ipython3",
   "version": "3.11.9"
  }
 },
 "nbformat": 4,
 "nbformat_minor": 5
}
