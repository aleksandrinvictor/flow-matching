{
 "cells": [
  {
   "cell_type": "code",
   "execution_count": 71,
   "id": "c9cfc057-3bf8-423e-a327-6611f5083481",
   "metadata": {},
   "outputs": [],
   "source": [
    "from torchdiffeq import odeint\n",
    "from src.models.unet import Unet\n",
    "from src.models.simple_model import SimpleModel\n",
    "from torch.distributions.normal import Normal\n",
    "from torchvision.utils import save_image\n",
    "\n",
    "import torch\n",
    "import torch.nn as nn"
   ]
  },
  {
   "cell_type": "code",
   "execution_count": 72,
   "id": "60b9c48d-d731-4ae9-bde0-4265508e33a9",
   "metadata": {},
   "outputs": [],
   "source": [
    "# model = Unet(channels=1, dim_mults=(1, 2, 4), dim=28)\n",
    "model = SimpleModel()"
   ]
  },
  {
   "cell_type": "code",
   "execution_count": 99,
   "id": "314baa09-2fcf-4d7d-aa5e-162d8a7bd7b0",
   "metadata": {},
   "outputs": [],
   "source": [
    "checkpoint = torch.load(\"results/5-checkpoint.pth\")"
   ]
  },
  {
   "cell_type": "code",
   "execution_count": 100,
   "id": "3d5ab143-07fc-42d0-a620-8bdce6f0a645",
   "metadata": {},
   "outputs": [
    {
     "data": {
      "text/plain": [
       "<All keys matched successfully>"
      ]
     },
     "execution_count": 100,
     "metadata": {},
     "output_type": "execute_result"
    }
   ],
   "source": [
    "model.load_state_dict(checkpoint[\"model_state_dict\"])"
   ]
  },
  {
   "cell_type": "code",
   "execution_count": 101,
   "id": "06064e9d-9966-4e30-b852-df501266016a",
   "metadata": {
    "scrolled": true
   },
   "outputs": [
    {
     "data": {
      "text/plain": [
       "SimpleModel(\n",
       "  (time_mlp): Sequential(\n",
       "    (0): SinusoidalPositionEmbeddings()\n",
       "    (1): Linear(in_features=28, out_features=1, bias=True)\n",
       "    (2): GELU(approximate='none')\n",
       "  )\n",
       "  (net): Sequential(\n",
       "    (0): Conv2d(1, 4, kernel_size=(3, 3), stride=(1, 1), padding=same)\n",
       "    (1): GroupNorm(1, 4, eps=1e-05, affine=True)\n",
       "    (2): SELU()\n",
       "    (3): Conv2d(4, 8, kernel_size=(3, 3), stride=(1, 1), padding=same)\n",
       "    (4): GroupNorm(1, 8, eps=1e-05, affine=True)\n",
       "    (5): SELU()\n",
       "    (6): Conv2d(8, 1, kernel_size=(3, 3), stride=(1, 1), padding=same)\n",
       "  )\n",
       ")"
      ]
     },
     "execution_count": 101,
     "metadata": {},
     "output_type": "execute_result"
    }
   ],
   "source": [
    "model.eval()"
   ]
  },
  {
   "cell_type": "code",
   "execution_count": 102,
   "id": "b6944cba-ad06-4d17-b11d-b805531cc2f2",
   "metadata": {},
   "outputs": [],
   "source": [
    "base_distribution = Normal(0, 1)\n",
    "x_0 = base_distribution.sample(sample_shape=(16, 1, 28, 28))"
   ]
  },
  {
   "cell_type": "code",
   "execution_count": 103,
   "id": "9f143e91-905b-4a5d-875b-27c12c4b2c1c",
   "metadata": {},
   "outputs": [],
   "source": [
    "num_steps = 500\n",
    "ts = torch.linspace(0., 1., num_steps)"
   ]
  },
  {
   "cell_type": "code",
   "execution_count": 104,
   "id": "f8c38e4e-4e5b-4cae-9a6a-e2ffca15157a",
   "metadata": {},
   "outputs": [],
   "source": [
    "@torch.no_grad()\n",
    "def sample_euler(x_0: torch.Tensor, model: nn.Module, num_steps: int = 100):\n",
    "    ts = torch.linspace(0., 1., num_steps)\n",
    "    batch_size = x_0.shape[0]\n",
    "\n",
    "    delta_t = ts[1] - ts[0]\n",
    "    \n",
    "    x_t = x_0\n",
    "    for t in ts[1:]:\n",
    "        x_t = x_t + model(x_t, t.repeat(batch_size)) * delta_t\n",
    "\n",
    "    return x_t"
   ]
  },
  {
   "cell_type": "code",
   "execution_count": 105,
   "id": "3c8cf0f3-169b-48de-9f18-eb54dc48433d",
   "metadata": {},
   "outputs": [],
   "source": [
    "output = sample_euler(x_0, model, num_steps)"
   ]
  },
  {
   "cell_type": "code",
   "execution_count": 106,
   "id": "2dba2ef0-7f8b-4aed-ac4e-01385e2658b2",
   "metadata": {},
   "outputs": [],
   "source": [
    "output = (output + 1) * 0.5"
   ]
  },
  {
   "cell_type": "code",
   "execution_count": 107,
   "id": "84cb70a9-5e81-4637-b42f-e5d6f99e7082",
   "metadata": {},
   "outputs": [
    {
     "data": {
      "text/plain": [
       "torch.Size([16, 1, 28, 28])"
      ]
     },
     "execution_count": 107,
     "metadata": {},
     "output_type": "execute_result"
    }
   ],
   "source": [
    "output.shape"
   ]
  },
  {
   "cell_type": "code",
   "execution_count": 108,
   "id": "ddab5141-d7fe-4566-98c9-242370793016",
   "metadata": {},
   "outputs": [],
   "source": [
    "save_image(output, \"samples.png\", nrow=4)"
   ]
  },
  {
   "cell_type": "code",
   "execution_count": 84,
   "id": "ceb070ed-e305-4e21-8cb8-f72cc4e82001",
   "metadata": {},
   "outputs": [],
   "source": [
    "# output"
   ]
  },
  {
   "cell_type": "code",
   "execution_count": null,
   "id": "0f7c9a00-f5c3-4818-b0da-2dc1ee4b7d9a",
   "metadata": {},
   "outputs": [],
   "source": []
  }
 ],
 "metadata": {
  "kernelspec": {
   "display_name": "Python 3 (ipykernel)",
   "language": "python",
   "name": "python3"
  },
  "language_info": {
   "codemirror_mode": {
    "name": "ipython",
    "version": 3
   },
   "file_extension": ".py",
   "mimetype": "text/x-python",
   "name": "python",
   "nbconvert_exporter": "python",
   "pygments_lexer": "ipython3",
   "version": "3.11.9"
  }
 },
 "nbformat": 4,
 "nbformat_minor": 5
}
